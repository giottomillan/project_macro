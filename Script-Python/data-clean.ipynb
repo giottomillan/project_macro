{
 "cells": [
  {
   "cell_type": "code",
   "execution_count": 1,
   "metadata": {},
   "outputs": [],
   "source": [
    "import pandas as pd\n",
    "import numpy as np"
   ]
  },
  {
   "cell_type": "code",
   "execution_count": 2,
   "metadata": {},
   "outputs": [],
   "source": [
    "df= pd.read_excel(\"../../../../Platzi_Data_Scientist/PowerBI/Proyecto_Macro/Crecimiento_PIB_Percapita.xls\")"
   ]
  },
  {
   "cell_type": "code",
   "execution_count": 15,
   "metadata": {},
   "outputs": [
    {
     "data": {
      "text/html": [
       "<div>\n",
       "<style scoped>\n",
       "    .dataframe tbody tr th:only-of-type {\n",
       "        vertical-align: middle;\n",
       "    }\n",
       "\n",
       "    .dataframe tbody tr th {\n",
       "        vertical-align: top;\n",
       "    }\n",
       "\n",
       "    .dataframe thead th {\n",
       "        text-align: right;\n",
       "    }\n",
       "</style>\n",
       "<table border=\"1\" class=\"dataframe\">\n",
       "  <thead>\n",
       "    <tr style=\"text-align: right;\">\n",
       "      <th>2</th>\n",
       "      <th>Country Name</th>\n",
       "      <th>Country Code</th>\n",
       "      <th>Indicator Name</th>\n",
       "      <th>Indicator Code</th>\n",
       "      <th>1960.0</th>\n",
       "      <th>1961.0</th>\n",
       "      <th>1962.0</th>\n",
       "      <th>1963.0</th>\n",
       "      <th>1964.0</th>\n",
       "      <th>1965.0</th>\n",
       "      <th>...</th>\n",
       "      <th>2013.0</th>\n",
       "      <th>2014.0</th>\n",
       "      <th>2015.0</th>\n",
       "      <th>2016.0</th>\n",
       "      <th>2017.0</th>\n",
       "      <th>2018.0</th>\n",
       "      <th>2019.0</th>\n",
       "      <th>2020.0</th>\n",
       "      <th>2021.0</th>\n",
       "      <th>2022.0</th>\n",
       "    </tr>\n",
       "  </thead>\n",
       "  <tbody>\n",
       "    <tr>\n",
       "      <th>3</th>\n",
       "      <td>Aruba</td>\n",
       "      <td>ABW</td>\n",
       "      <td>Crecimiento del PIB per cápita (% anual)</td>\n",
       "      <td>NY.GDP.PCAP.KD.ZG</td>\n",
       "      <td>NaN</td>\n",
       "      <td>NaN</td>\n",
       "      <td>NaN</td>\n",
       "      <td>NaN</td>\n",
       "      <td>NaN</td>\n",
       "      <td>NaN</td>\n",
       "      <td>...</td>\n",
       "      <td>5.635318</td>\n",
       "      <td>-0.709567</td>\n",
       "      <td>2.885166</td>\n",
       "      <td>1.515938</td>\n",
       "      <td>4.917139</td>\n",
       "      <td>4.738330</td>\n",
       "      <td>0.181216</td>\n",
       "      <td>-18.698324</td>\n",
       "      <td>17.225300</td>\n",
       "      <td>NaN</td>\n",
       "    </tr>\n",
       "    <tr>\n",
       "      <th>4</th>\n",
       "      <td>NaN</td>\n",
       "      <td>AFE</td>\n",
       "      <td>Crecimiento del PIB per cápita (% anual)</td>\n",
       "      <td>NY.GDP.PCAP.KD.ZG</td>\n",
       "      <td>NaN</td>\n",
       "      <td>-2.342974</td>\n",
       "      <td>5.093992</td>\n",
       "      <td>2.330796</td>\n",
       "      <td>1.724021</td>\n",
       "      <td>2.436215</td>\n",
       "      <td>...</td>\n",
       "      <td>1.400457</td>\n",
       "      <td>1.186759</td>\n",
       "      <td>0.166840</td>\n",
       "      <td>-0.490259</td>\n",
       "      <td>-0.105886</td>\n",
       "      <td>-0.169822</td>\n",
       "      <td>-0.587557</td>\n",
       "      <td>-5.421662</td>\n",
       "      <td>1.683557</td>\n",
       "      <td>0.842507</td>\n",
       "    </tr>\n",
       "    <tr>\n",
       "      <th>5</th>\n",
       "      <td>Afganistán</td>\n",
       "      <td>AFG</td>\n",
       "      <td>Crecimiento del PIB per cápita (% anual)</td>\n",
       "      <td>NY.GDP.PCAP.KD.ZG</td>\n",
       "      <td>NaN</td>\n",
       "      <td>NaN</td>\n",
       "      <td>NaN</td>\n",
       "      <td>NaN</td>\n",
       "      <td>NaN</td>\n",
       "      <td>NaN</td>\n",
       "      <td>...</td>\n",
       "      <td>2.002522</td>\n",
       "      <td>-0.964803</td>\n",
       "      <td>-1.666416</td>\n",
       "      <td>-0.345802</td>\n",
       "      <td>-0.253594</td>\n",
       "      <td>-1.688577</td>\n",
       "      <td>0.932833</td>\n",
       "      <td>-5.364666</td>\n",
       "      <td>-22.929194</td>\n",
       "      <td>NaN</td>\n",
       "    </tr>\n",
       "    <tr>\n",
       "      <th>6</th>\n",
       "      <td>NaN</td>\n",
       "      <td>AFW</td>\n",
       "      <td>Crecimiento del PIB per cápita (% anual)</td>\n",
       "      <td>NY.GDP.PCAP.KD.ZG</td>\n",
       "      <td>NaN</td>\n",
       "      <td>-0.255511</td>\n",
       "      <td>1.592942</td>\n",
       "      <td>4.978710</td>\n",
       "      <td>3.130231</td>\n",
       "      <td>1.798761</td>\n",
       "      <td>...</td>\n",
       "      <td>3.257923</td>\n",
       "      <td>3.093635</td>\n",
       "      <td>0.026016</td>\n",
       "      <td>-2.519274</td>\n",
       "      <td>-0.382691</td>\n",
       "      <td>0.140162</td>\n",
       "      <td>0.563580</td>\n",
       "      <td>-3.453124</td>\n",
       "      <td>1.372160</td>\n",
       "      <td>1.192668</td>\n",
       "    </tr>\n",
       "    <tr>\n",
       "      <th>7</th>\n",
       "      <td>Angola</td>\n",
       "      <td>AGO</td>\n",
       "      <td>Crecimiento del PIB per cápita (% anual)</td>\n",
       "      <td>NY.GDP.PCAP.KD.ZG</td>\n",
       "      <td>NaN</td>\n",
       "      <td>NaN</td>\n",
       "      <td>NaN</td>\n",
       "      <td>NaN</td>\n",
       "      <td>NaN</td>\n",
       "      <td>NaN</td>\n",
       "      <td>...</td>\n",
       "      <td>1.106331</td>\n",
       "      <td>1.030729</td>\n",
       "      <td>-2.642975</td>\n",
       "      <td>-6.011891</td>\n",
       "      <td>-3.630695</td>\n",
       "      <td>-4.676670</td>\n",
       "      <td>-4.017114</td>\n",
       "      <td>-8.672432</td>\n",
       "      <td>-1.954598</td>\n",
       "      <td>-0.096755</td>\n",
       "    </tr>\n",
       "  </tbody>\n",
       "</table>\n",
       "<p>5 rows × 67 columns</p>\n",
       "</div>"
      ],
      "text/plain": [
       "2 Country Name Country Code                            Indicator Name  \\\n",
       "3        Aruba          ABW  Crecimiento del PIB per cápita (% anual)   \n",
       "4          NaN          AFE  Crecimiento del PIB per cápita (% anual)   \n",
       "5   Afganistán          AFG  Crecimiento del PIB per cápita (% anual)   \n",
       "6          NaN          AFW  Crecimiento del PIB per cápita (% anual)   \n",
       "7       Angola          AGO  Crecimiento del PIB per cápita (% anual)   \n",
       "\n",
       "2     Indicator Code  1960.0    1961.0    1962.0    1963.0    1964.0  \\\n",
       "3  NY.GDP.PCAP.KD.ZG     NaN       NaN       NaN       NaN       NaN   \n",
       "4  NY.GDP.PCAP.KD.ZG     NaN -2.342974  5.093992  2.330796  1.724021   \n",
       "5  NY.GDP.PCAP.KD.ZG     NaN       NaN       NaN       NaN       NaN   \n",
       "6  NY.GDP.PCAP.KD.ZG     NaN -0.255511  1.592942  4.978710  3.130231   \n",
       "7  NY.GDP.PCAP.KD.ZG     NaN       NaN       NaN       NaN       NaN   \n",
       "\n",
       "2    1965.0  ...    2013.0    2014.0    2015.0    2016.0    2017.0    2018.0  \\\n",
       "3       NaN  ...  5.635318 -0.709567  2.885166  1.515938  4.917139  4.738330   \n",
       "4  2.436215  ...  1.400457  1.186759  0.166840 -0.490259 -0.105886 -0.169822   \n",
       "5       NaN  ...  2.002522 -0.964803 -1.666416 -0.345802 -0.253594 -1.688577   \n",
       "6  1.798761  ...  3.257923  3.093635  0.026016 -2.519274 -0.382691  0.140162   \n",
       "7       NaN  ...  1.106331  1.030729 -2.642975 -6.011891 -3.630695 -4.676670   \n",
       "\n",
       "2    2019.0     2020.0     2021.0    2022.0  \n",
       "3  0.181216 -18.698324  17.225300       NaN  \n",
       "4 -0.587557  -5.421662   1.683557  0.842507  \n",
       "5  0.932833  -5.364666 -22.929194       NaN  \n",
       "6  0.563580  -3.453124   1.372160  1.192668  \n",
       "7 -4.017114  -8.672432  -1.954598 -0.096755  \n",
       "\n",
       "[5 rows x 67 columns]"
      ]
     },
     "execution_count": 15,
     "metadata": {},
     "output_type": "execute_result"
    }
   ],
   "source": [
    "df.head()"
   ]
  },
  {
   "cell_type": "code",
   "execution_count": 8,
   "metadata": {},
   "outputs": [
    {
     "data": {
      "text/plain": [
       "(269, 67)"
      ]
     },
     "execution_count": 8,
     "metadata": {},
     "output_type": "execute_result"
    }
   ],
   "source": [
    "df.shape"
   ]
  },
  {
   "cell_type": "code",
   "execution_count": 14,
   "metadata": {},
   "outputs": [],
   "source": [
    "#df = df.iloc[2:]\n",
    "df = df.iloc[1:]"
   ]
  },
  {
   "cell_type": "code",
   "execution_count": 12,
   "metadata": {},
   "outputs": [],
   "source": [
    "df.columns = df.iloc[0]"
   ]
  },
  {
   "cell_type": "code",
   "execution_count": 16,
   "metadata": {},
   "outputs": [],
   "source": [
    "\n",
    "\n",
    "\n",
    "# Melt para convertir las columnas de años en filas\n",
    "df_melted = pd.melt(df, id_vars=df.columns[:5], var_name='Año', value_name='Valor')\n",
    "\n",
    "# Eliminar las filas con NaN en la columna 'Valor'\n",
    "df_melted = df_melted.dropna(subset=['Valor'])\n",
    "\n",
    "# Guardar el nuevo DataFrame\n",
    "#df_melted.to_csv('nuevo_archivo_organizado.csv', index=False)\n"
   ]
  },
  {
   "cell_type": "code",
   "execution_count": 24,
   "metadata": {},
   "outputs": [],
   "source": [
    "\"\"\"df_melted= df_melted.drop(1960.0, axis=  1)\n",
    "df_melted= df_melted.drop(\"Indicator Code\", axis=  1)\"\"\"\n",
    "df_melted= df_melted.drop(\"Indicator Name\", axis=  1)\n"
   ]
  },
  {
   "cell_type": "code",
   "execution_count": 27,
   "metadata": {},
   "outputs": [],
   "source": [
    "df_melted= df_melted.rename(columns={\"Valor\":\"Crecimiento del PIB per cápita (% anual)\"})"
   ]
  },
  {
   "cell_type": "code",
   "execution_count": 28,
   "metadata": {},
   "outputs": [
    {
     "data": {
      "text/html": [
       "<div>\n",
       "<style scoped>\n",
       "    .dataframe tbody tr th:only-of-type {\n",
       "        vertical-align: middle;\n",
       "    }\n",
       "\n",
       "    .dataframe tbody tr th {\n",
       "        vertical-align: top;\n",
       "    }\n",
       "\n",
       "    .dataframe thead th {\n",
       "        text-align: right;\n",
       "    }\n",
       "</style>\n",
       "<table border=\"1\" class=\"dataframe\">\n",
       "  <thead>\n",
       "    <tr style=\"text-align: right;\">\n",
       "      <th></th>\n",
       "      <th>Country Name</th>\n",
       "      <th>Country Code</th>\n",
       "      <th>Año</th>\n",
       "      <th>Crecimiento del PIB per cápita (% anual)</th>\n",
       "    </tr>\n",
       "  </thead>\n",
       "  <tbody>\n",
       "    <tr>\n",
       "      <th>1</th>\n",
       "      <td>NaN</td>\n",
       "      <td>AFE</td>\n",
       "      <td>1961.0</td>\n",
       "      <td>-2.342974</td>\n",
       "    </tr>\n",
       "    <tr>\n",
       "      <th>3</th>\n",
       "      <td>NaN</td>\n",
       "      <td>AFW</td>\n",
       "      <td>1961.0</td>\n",
       "      <td>-0.255511</td>\n",
       "    </tr>\n",
       "    <tr>\n",
       "      <th>9</th>\n",
       "      <td>Argentina</td>\n",
       "      <td>ARG</td>\n",
       "      <td>1961.0</td>\n",
       "      <td>3.740903</td>\n",
       "    </tr>\n",
       "    <tr>\n",
       "      <th>13</th>\n",
       "      <td>Australia</td>\n",
       "      <td>AUS</td>\n",
       "      <td>1961.0</td>\n",
       "      <td>0.463671</td>\n",
       "    </tr>\n",
       "    <tr>\n",
       "      <th>14</th>\n",
       "      <td>Austria</td>\n",
       "      <td>AUT</td>\n",
       "      <td>1961.0</td>\n",
       "      <td>4.960717</td>\n",
       "    </tr>\n",
       "  </tbody>\n",
       "</table>\n",
       "</div>"
      ],
      "text/plain": [
       "   Country Name Country Code     Año  Crecimiento del PIB per cápita (% anual)\n",
       "1           NaN          AFE  1961.0                                 -2.342974\n",
       "3           NaN          AFW  1961.0                                 -0.255511\n",
       "9     Argentina          ARG  1961.0                                  3.740903\n",
       "13    Australia          AUS  1961.0                                  0.463671\n",
       "14      Austria          AUT  1961.0                                  4.960717"
      ]
     },
     "execution_count": 28,
     "metadata": {},
     "output_type": "execute_result"
    }
   ],
   "source": [
    "df_melted.head()"
   ]
  },
  {
   "cell_type": "code",
   "execution_count": 31,
   "metadata": {},
   "outputs": [],
   "source": [
    "df_melted.to_csv(\"../../../../Platzi_Data_Scientist/PowerBI/Proyecto_Macro/Crecimiento_PIB_Percapita_clean.csv\", index=False)"
   ]
  },
  {
   "cell_type": "code",
   "execution_count": 38,
   "metadata": {},
   "outputs": [
    {
     "data": {
      "text/html": [
       "<div>\n",
       "<style scoped>\n",
       "    .dataframe tbody tr th:only-of-type {\n",
       "        vertical-align: middle;\n",
       "    }\n",
       "\n",
       "    .dataframe tbody tr th {\n",
       "        vertical-align: top;\n",
       "    }\n",
       "\n",
       "    .dataframe thead th {\n",
       "        text-align: right;\n",
       "    }\n",
       "</style>\n",
       "<table border=\"1\" class=\"dataframe\">\n",
       "  <thead>\n",
       "    <tr style=\"text-align: right;\">\n",
       "      <th></th>\n",
       "      <th>count</th>\n",
       "      <th>mean</th>\n",
       "      <th>std</th>\n",
       "      <th>min</th>\n",
       "      <th>25%</th>\n",
       "      <th>50%</th>\n",
       "      <th>75%</th>\n",
       "      <th>max</th>\n",
       "    </tr>\n",
       "  </thead>\n",
       "  <tbody>\n",
       "    <tr>\n",
       "      <th>Crecimiento del PIB per cápita (% anual)</th>\n",
       "      <td>12730.0</td>\n",
       "      <td>1.95934</td>\n",
       "      <td>5.694775</td>\n",
       "      <td>-64.425841</td>\n",
       "      <td>-0.149902</td>\n",
       "      <td>2.131587</td>\n",
       "      <td>4.342585</td>\n",
       "      <td>140.480042</td>\n",
       "    </tr>\n",
       "  </tbody>\n",
       "</table>\n",
       "</div>"
      ],
      "text/plain": [
       "                                            count     mean       std  \\\n",
       "Crecimiento del PIB per cápita (% anual)  12730.0  1.95934  5.694775   \n",
       "\n",
       "                                                min       25%       50%  \\\n",
       "Crecimiento del PIB per cápita (% anual) -64.425841 -0.149902  2.131587   \n",
       "\n",
       "                                               75%         max  \n",
       "Crecimiento del PIB per cápita (% anual)  4.342585  140.480042  "
      ]
     },
     "execution_count": 38,
     "metadata": {},
     "output_type": "execute_result"
    }
   ],
   "source": [
    "df_melted.describe().T"
   ]
  },
  {
   "cell_type": "code",
   "execution_count": 40,
   "metadata": {},
   "outputs": [
    {
     "data": {
      "text/plain": [
       "Country Name                                        Country Code  Año     Crecimiento del PIB per cápita (% anual)\n",
       " Ingreso mediano                                    MIC           1961.0  -0.229112                                   1\n",
       "Oriente Medio y Norte de África (BIRF y la AIF)     TMN           1970.0   5.934241                                   1\n",
       "                                                                  1972.0   10.548656                                  1\n",
       "                                                                  1973.0   2.903553                                   1\n",
       "                                                                  1974.0   3.526341                                   1\n",
       "                                                                                                                     ..\n",
       "Fiji                                                FJI           1970.0   10.421034                                  1\n",
       "                                                                  1971.0   4.829486                                   1\n",
       "                                                                  1972.0   5.539659                                   1\n",
       "                                                                  1973.0   9.744923                                   1\n",
       "África al sur del Sahara (excluido altos ingresos)  SSA           2022.0   0.997398                                   1\n",
       "Length: 12606, dtype: int64"
      ]
     },
     "execution_count": 40,
     "metadata": {},
     "output_type": "execute_result"
    }
   ],
   "source": [
    "conteo = df_melted.value_counts()\n",
    "conteo"
   ]
  },
  {
   "cell_type": "code",
   "execution_count": 33,
   "metadata": {},
   "outputs": [
    {
     "name": "stdout",
     "output_type": "stream",
     "text": [
      "manzana    3\n",
      "naranja    2\n",
      "plátano    1\n",
      "Name: fruta, dtype: int64\n"
     ]
    }
   ],
   "source": [
    "\n",
    "# Crear un DataFrame de ejemplo\n",
    "data = {'fruta': ['manzana', 'naranja', 'manzana', 'plátano', 'naranja', 'manzana']}\n",
    "df = pd.DataFrame(data)\n",
    "\n",
    "# Utilizar value_counts para contar la frecuencia de cada valor único en la columna 'fruta'\n",
    "conteo_frutas = df['fruta'].value_counts()\n",
    "\n",
    "print(conteo_frutas)\n"
   ]
  }
 ],
 "metadata": {
  "kernelspec": {
   "display_name": "base",
   "language": "python",
   "name": "python3"
  },
  "language_info": {
   "codemirror_mode": {
    "name": "ipython",
    "version": 3
   },
   "file_extension": ".py",
   "mimetype": "text/x-python",
   "name": "python",
   "nbconvert_exporter": "python",
   "pygments_lexer": "ipython3",
   "version": "3.9.13"
  }
 },
 "nbformat": 4,
 "nbformat_minor": 2
}
